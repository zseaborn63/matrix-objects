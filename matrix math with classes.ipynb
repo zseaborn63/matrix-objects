{
 "cells": [
  {
   "cell_type": "code",
   "execution_count": 1,
   "metadata": {
    "collapsed": true
   },
   "outputs": [],
   "source": [
    "from functools import reduce\n"
   ]
  },
  {
   "cell_type": "code",
   "execution_count": 156,
   "metadata": {
    "collapsed": false
   },
   "outputs": [],
   "source": [
    "class Vector(list):\n",
    "    \n",
    "    def __init__(self, vector):\n",
    "        self.vector = vector\n",
    "        \n",
    "    def __str__(self):\n",
    "        return \"{}\".format(self.vector)\n",
    "    \n",
    "    @property\n",
    "    def shape(self):\n",
    "        return len(self.vector)\n",
    "    \n",
    "    @property\n",
    "    def magnitude(self):\n",
    "        mag = 0\n",
    "        for x in range(self.shape):\n",
    "            mag += self.vector[x] ** 2\n",
    "            mag = mag ** 0.5\n",
    "        return mag\n",
    "    \n",
    "    def shape_rule_check(self, other):\n",
    "        if self.shape != other.shape:\n",
    "            raise ValueError(\"Shape Rule Violation!\")\n",
    "    \n",
    "    def dot_product(self, other):\n",
    "        self.shape_rule_check(other)\n",
    "        vec_for_add = []\n",
    "        for x in range(self.shape):\n",
    "            pos_multiplication = self.vector[x] * other.vector[x]\n",
    "            vec_for_add.append(pos_multiplication)\n",
    "        dot_total = reduce(lambda x, y: x + y, vec_for_add)\n",
    "        return dot_total\n",
    "        \n",
    "    def __add__(self, other):\n",
    "        self.shape_rule_check(other)\n",
    "        output_vector = []\n",
    "        for i in range(self.shape):\n",
    "            output_num = self.vector[i] + other.vector[i]\n",
    "            output_vector.append(output_num)\n",
    "        return output_vector\n",
    "    \n",
    "    def __sub__(self, other):\n",
    "        self.shape_rule_check(other)\n",
    "        output_vector = []\n",
    "        for i in range(self.shape):\n",
    "            output_num = self.vector[i] - other.vector[i]\n",
    "            output_vector.append(output_num)\n",
    "        return output_vector\n",
    "        \n",
    "    def __mul__(self, scalar):\n",
    "        output_vector = []\n",
    "        for i in range(self.shape):\n",
    "            output_num = self.vector[i] * scalar\n",
    "            output_vector.append(output_num)\n",
    "        return output_vector"
   ]
  },
  {
   "cell_type": "code",
   "execution_count": 173,
   "metadata": {
    "collapsed": true
   },
   "outputs": [],
   "source": [
    "a_vec = Vector([1, 2, 3, 4])\n",
    "b_vec = Vector([9, 8, 7, 6])\n",
    "c_vec = Vector([2, 4, 6])\n",
    "d_vec = Vector([3, 5, 7])"
   ]
  },
  {
   "cell_type": "code",
   "execution_count": 63,
   "metadata": {
    "collapsed": false
   },
   "outputs": [
    {
     "name": "stdout",
     "output_type": "stream",
     "text": [
      "[1, 2, 3, 4]\n"
     ]
    }
   ],
   "source": [
    "print(a_vec)"
   ]
  },
  {
   "cell_type": "code",
   "execution_count": 41,
   "metadata": {
    "collapsed": false
   },
   "outputs": [
    {
     "data": {
      "text/plain": [
       "70"
      ]
     },
     "execution_count": 41,
     "metadata": {},
     "output_type": "execute_result"
    }
   ],
   "source": [
    "a_vec.dot_product(b_vec)"
   ]
  },
  {
   "cell_type": "code",
   "execution_count": 72,
   "metadata": {
    "collapsed": false
   },
   "outputs": [
    {
     "ename": "ValueError",
     "evalue": "Shape Rule Violation!",
     "output_type": "error",
     "traceback": [
      "\u001b[0;31m---------------------------------------------------------------------------\u001b[0m",
      "\u001b[0;31mValueError\u001b[0m                                Traceback (most recent call last)",
      "\u001b[0;32m<ipython-input-72-a5326a5a47ad>\u001b[0m in \u001b[0;36m<module>\u001b[0;34m()\u001b[0m\n\u001b[0;32m----> 1\u001b[0;31m \u001b[0mc_vec\u001b[0m \u001b[0;34m+\u001b[0m \u001b[0ma_vec\u001b[0m\u001b[0;34m\u001b[0m\u001b[0m\n\u001b[0m",
      "\u001b[0;32m<ipython-input-66-51da39e80001>\u001b[0m in \u001b[0;36m__add__\u001b[0;34m(self, other)\u001b[0m\n\u001b[1;32m     33\u001b[0m \u001b[0;34m\u001b[0m\u001b[0m\n\u001b[1;32m     34\u001b[0m     \u001b[0;32mdef\u001b[0m \u001b[0m__add__\u001b[0m\u001b[0;34m(\u001b[0m\u001b[0mself\u001b[0m\u001b[0;34m,\u001b[0m \u001b[0mother\u001b[0m\u001b[0;34m)\u001b[0m\u001b[0;34m:\u001b[0m\u001b[0;34m\u001b[0m\u001b[0m\n\u001b[0;32m---> 35\u001b[0;31m         \u001b[0mself\u001b[0m\u001b[0;34m.\u001b[0m\u001b[0mshape_rule_check\u001b[0m\u001b[0;34m(\u001b[0m\u001b[0mother\u001b[0m\u001b[0;34m)\u001b[0m\u001b[0;34m\u001b[0m\u001b[0m\n\u001b[0m\u001b[1;32m     36\u001b[0m         \u001b[0moutput_vector\u001b[0m \u001b[0;34m=\u001b[0m \u001b[0;34m[\u001b[0m\u001b[0;34m]\u001b[0m\u001b[0;34m\u001b[0m\u001b[0m\n\u001b[1;32m     37\u001b[0m         \u001b[0;32mfor\u001b[0m \u001b[0mi\u001b[0m \u001b[0;32min\u001b[0m \u001b[0mrange\u001b[0m\u001b[0;34m(\u001b[0m\u001b[0mself\u001b[0m\u001b[0;34m.\u001b[0m\u001b[0mshape\u001b[0m\u001b[0;34m)\u001b[0m\u001b[0;34m:\u001b[0m\u001b[0;34m\u001b[0m\u001b[0m\n",
      "\u001b[0;32m<ipython-input-66-51da39e80001>\u001b[0m in \u001b[0;36mshape_rule_check\u001b[0;34m(self, other)\u001b[0m\n\u001b[1;32m     21\u001b[0m     \u001b[0;32mdef\u001b[0m \u001b[0mshape_rule_check\u001b[0m\u001b[0;34m(\u001b[0m\u001b[0mself\u001b[0m\u001b[0;34m,\u001b[0m \u001b[0mother\u001b[0m\u001b[0;34m)\u001b[0m\u001b[0;34m:\u001b[0m\u001b[0;34m\u001b[0m\u001b[0m\n\u001b[1;32m     22\u001b[0m         \u001b[0;32mif\u001b[0m \u001b[0mself\u001b[0m\u001b[0;34m.\u001b[0m\u001b[0mshape\u001b[0m \u001b[0;34m!=\u001b[0m \u001b[0mother\u001b[0m\u001b[0;34m.\u001b[0m\u001b[0mshape\u001b[0m\u001b[0;34m:\u001b[0m\u001b[0;34m\u001b[0m\u001b[0m\n\u001b[0;32m---> 23\u001b[0;31m             \u001b[0;32mraise\u001b[0m \u001b[0mValueError\u001b[0m\u001b[0;34m(\u001b[0m\u001b[0;34m\"Shape Rule Violation!\"\u001b[0m\u001b[0;34m)\u001b[0m\u001b[0;34m\u001b[0m\u001b[0m\n\u001b[0m\u001b[1;32m     24\u001b[0m \u001b[0;34m\u001b[0m\u001b[0m\n\u001b[1;32m     25\u001b[0m     \u001b[0;32mdef\u001b[0m \u001b[0mdot_product\u001b[0m\u001b[0;34m(\u001b[0m\u001b[0mself\u001b[0m\u001b[0;34m,\u001b[0m \u001b[0mother\u001b[0m\u001b[0;34m)\u001b[0m\u001b[0;34m:\u001b[0m\u001b[0;34m\u001b[0m\u001b[0m\n",
      "\u001b[0;31mValueError\u001b[0m: Shape Rule Violation!"
     ]
    }
   ],
   "source": [
    "c_vec + a_vec"
   ]
  },
  {
   "cell_type": "code",
   "execution_count": 181,
   "metadata": {
    "collapsed": false
   },
   "outputs": [],
   "source": [
    "class Matrix(Vector):\n",
    "    \n",
    "    def __init__(self, matrix):\n",
    "        self.matrix = matrix\n",
    "        for row in self.matrix:\n",
    "            self.row = row\n",
    "        \n",
    "    def __str__(self):\n",
    "        return \"{}\".format(self.matrix)\n",
    "    \n",
    "    @property\n",
    "    def shape(self):\n",
    "        for row in self.matrix:\n",
    "            num_rows = len(self.matrix)\n",
    "            for col in row:\n",
    "                num_col = len(row)\n",
    "        return num_rows, num_col\n",
    "    \n",
    "    def shape_checker(self, other):\n",
    "        if self.shape[1] != other.shape[0]:\n",
    "            raise ValueError(\"Shape Rule Violated!\")\n",
    "            \n",
    "    def __add__(self, other):\n",
    "        if self.shape != other.shape:\n",
    "            raise ValueError(\"Shape Rule Violated!\")\n",
    "        output_matrix = []\n",
    "        for self.row in self.matrix:\n",
    "            output_row = []\n",
    "            for x in range(len(self.row)):\n",
    "                output_num = self.row[x] + other.row[x]\n",
    "                output_row.append(output_num)\n",
    "            output_matrix.append(output_row)\n",
    "        return output_matrix\n",
    "    \n",
    "    def __sub__(self, other):\n",
    "        if self.shape != other.shape:\n",
    "            raise ValueError(\"Shape Rule Violated!\")\n",
    "        output_matrix = []\n",
    "        for self.row in self.matrix:\n",
    "            output_row = []\n",
    "            for x in range(len(self.row)):\n",
    "                output_num = self.row[x] - other.row[x]\n",
    "                output_row.append(output_num)\n",
    "            output_matrix.append(output_row)\n",
    "        return output_matrix\n",
    "    \n",
    "    def __mul__(self, other):\n",
    "        if type(other) == int:\n",
    "            output_matrix = []\n",
    "            for self.row in self.matrix:\n",
    "                output_row = []\n",
    "                for column in self.row:\n",
    "                    calculated_value = column * other\n",
    "                    output_row.append(calculated_value)\n",
    "                output_matrix.append(output_row)\n",
    "            return output_matrix\n",
    "        else:\n",
    "            other = Vector(other)\n",
    "            #self.shape_checker(other)\n",
    "            final_vec = []\n",
    "            for self.row in self.matrix:\n",
    "                placeholder = 0\n",
    "                for x in range(len(self.row)):\n",
    "                    placeholder += self.row[x] * other[x]\n",
    "                final_vec.append(placeholder)\n",
    "            return final_vec"
   ]
  },
  {
   "cell_type": "code",
   "execution_count": 182,
   "metadata": {
    "collapsed": false
   },
   "outputs": [],
   "source": [
    "a_mtrx = Matrix([[1, 2], [3, 4], [5, 6]])\n",
    "b_mtrx = Matrix([[7, 8], [9, 10], [11, 12]])\n",
    "c_mtrx = Matrix([[1, 3, 5], [7, 9, 11]])\n",
    "d_mtrx = Matrix([[2, 4, 6], [8, 10, 12]])"
   ]
  },
  {
   "cell_type": "code",
   "execution_count": 167,
   "metadata": {
    "collapsed": false
   },
   "outputs": [
    {
     "data": {
      "text/plain": [
       "(1, 1)"
      ]
     },
     "execution_count": 167,
     "metadata": {},
     "output_type": "execute_result"
    }
   ],
   "source": [
    "dumb_mtrx.shape"
   ]
  },
  {
   "cell_type": "code",
   "execution_count": 168,
   "metadata": {
    "collapsed": false
   },
   "outputs": [
    {
     "data": {
      "text/plain": [
       "[[-10, -10], [-8, -8], [-6, -6]]"
      ]
     },
     "execution_count": 168,
     "metadata": {},
     "output_type": "execute_result"
    }
   ],
   "source": [
    "a_mtrx - b_mtrx"
   ]
  },
  {
   "cell_type": "code",
   "execution_count": 183,
   "metadata": {
    "collapsed": false
   },
   "outputs": [
    {
     "ename": "IndexError",
     "evalue": "list index out of range",
     "output_type": "error",
     "traceback": [
      "\u001b[0;31m---------------------------------------------------------------------------\u001b[0m",
      "\u001b[0;31mIndexError\u001b[0m                                Traceback (most recent call last)",
      "\u001b[0;32m<ipython-input-183-0506f74030a0>\u001b[0m in \u001b[0;36m<module>\u001b[0;34m()\u001b[0m\n\u001b[0;32m----> 1\u001b[0;31m \u001b[0mx\u001b[0m \u001b[0;34m=\u001b[0m \u001b[0ma_mtrx\u001b[0m \u001b[0;34m*\u001b[0m \u001b[0mc_vec\u001b[0m\u001b[0;34m\u001b[0m\u001b[0m\n\u001b[0m\u001b[1;32m      2\u001b[0m \u001b[0mprint\u001b[0m\u001b[0;34m(\u001b[0m\u001b[0mx\u001b[0m\u001b[0;34m)\u001b[0m\u001b[0;34m\u001b[0m\u001b[0m\n",
      "\u001b[0;32m<ipython-input-181-7d4e5ebe31d2>\u001b[0m in \u001b[0;36m__mul__\u001b[0;34m(self, other)\u001b[0m\n\u001b[1;32m     62\u001b[0m                 \u001b[0mplaceholder\u001b[0m \u001b[0;34m=\u001b[0m \u001b[0;36m0\u001b[0m\u001b[0;34m\u001b[0m\u001b[0m\n\u001b[1;32m     63\u001b[0m                 \u001b[0;32mfor\u001b[0m \u001b[0mx\u001b[0m \u001b[0;32min\u001b[0m \u001b[0mrange\u001b[0m\u001b[0;34m(\u001b[0m\u001b[0mlen\u001b[0m\u001b[0;34m(\u001b[0m\u001b[0mself\u001b[0m\u001b[0;34m.\u001b[0m\u001b[0mrow\u001b[0m\u001b[0;34m)\u001b[0m\u001b[0;34m)\u001b[0m\u001b[0;34m:\u001b[0m\u001b[0;34m\u001b[0m\u001b[0m\n\u001b[0;32m---> 64\u001b[0;31m                     \u001b[0mplaceholder\u001b[0m \u001b[0;34m+=\u001b[0m \u001b[0mself\u001b[0m\u001b[0;34m.\u001b[0m\u001b[0mrow\u001b[0m\u001b[0;34m[\u001b[0m\u001b[0mx\u001b[0m\u001b[0;34m]\u001b[0m \u001b[0;34m*\u001b[0m \u001b[0mother\u001b[0m\u001b[0;34m[\u001b[0m\u001b[0mx\u001b[0m\u001b[0;34m]\u001b[0m\u001b[0;34m\u001b[0m\u001b[0m\n\u001b[0m\u001b[1;32m     65\u001b[0m                 \u001b[0mfinal_vec\u001b[0m\u001b[0;34m.\u001b[0m\u001b[0mappend\u001b[0m\u001b[0;34m(\u001b[0m\u001b[0mplaceholder\u001b[0m\u001b[0;34m)\u001b[0m\u001b[0;34m\u001b[0m\u001b[0m\n\u001b[1;32m     66\u001b[0m             \u001b[0;32mreturn\u001b[0m \u001b[0mfinal_vec\u001b[0m\u001b[0;34m\u001b[0m\u001b[0m\n",
      "\u001b[0;31mIndexError\u001b[0m: list index out of range"
     ]
    }
   ],
   "source": [
    "x = a_mtrx * c_vec\n",
    "print(x)"
   ]
  },
  {
   "cell_type": "code",
   "execution_count": null,
   "metadata": {
    "collapsed": true
   },
   "outputs": [],
   "source": []
  }
 ],
 "metadata": {
  "kernelspec": {
   "display_name": "Python 3",
   "language": "python",
   "name": "python3"
  },
  "language_info": {
   "codemirror_mode": {
    "name": "ipython",
    "version": 3
   },
   "file_extension": ".py",
   "mimetype": "text/x-python",
   "name": "python",
   "nbconvert_exporter": "python",
   "pygments_lexer": "ipython3",
   "version": "3.5.0"
  }
 },
 "nbformat": 4,
 "nbformat_minor": 0
}
